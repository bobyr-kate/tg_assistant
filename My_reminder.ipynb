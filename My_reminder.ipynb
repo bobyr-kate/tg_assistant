{
 "cells": [
  {
   "cell_type": "code",
   "execution_count": 12,
   "id": "3aad9669",
   "metadata": {},
   "outputs": [],
   "source": [
    "import asyncio\n",
    "from notifiers import get_notifier\n",
    "import logging\n",
    "import logging.config\n",
    "\n",
    "logging.config.fileConfig(r\"C:\\Users\\Kate\\1_Education\\Quantori\\python\\11_2_logging\\logging_config.ini\")\n",
    "\n"
   ]
  },
  {
   "cell_type": "code",
   "execution_count": 13,
   "id": "648fe506",
   "metadata": {},
   "outputs": [],
   "source": [
    "telegram_token = telegram_token\n",
    "telegram_channel = telegram_channel\n",
    "my_id = my_id\n",
    "chanell_id = chanell_id"
   ]
  },
  {
   "cell_type": "code",
   "execution_count": 26,
   "id": "b45b4128",
   "metadata": {
    "scrolled": true
   },
   "outputs": [],
   "source": [
    "async def send_message(message, t):\n",
    "    logging.info(f'Timer enebled. For task \"{message}\" a reminder will send in {t} seconds')\n",
    "    await asyncio.sleep(t)\n",
    "    telegram = get_notifier('telegram')\n",
    "    telegram.notify(token=telegram_token,chat_id=chanell_id, message=message)\n",
    "    logging.info(f'Reminder for task \"{message}\" has been sent')\n",
    "\n",
    "counter = 0\n",
    "while True:\n",
    "    try:\n",
    "        if counter == 0:\n",
    "            message = input('What do you want to plan? To exit send \"no\"')\n",
    "            counter += 1\n",
    "        else:\n",
    "            message = input('Do you want to plan something else? To exit send \"no\"')\n",
    "        if message == 'no':\n",
    "            break\n",
    "        else:\n",
    "            t = input ('How many seconds until you want to be reminded?')\n",
    "            t=int(t)\n",
    "            asyncio.create_task(send_message(message, t))\n",
    "    except ValueError as e:\n",
    "        logging.error(e)\n",
    "        break\n",
    "      \n"
   ]
  }
 ],
 "metadata": {
  "kernelspec": {
   "display_name": "Python 3 (ipykernel)",
   "language": "python",
   "name": "python3"
  },
  "language_info": {
   "codemirror_mode": {
    "name": "ipython",
    "version": 3
   },
   "file_extension": ".py",
   "mimetype": "text/x-python",
   "name": "python",
   "nbconvert_exporter": "python",
   "pygments_lexer": "ipython3",
   "version": "3.12.2"
  }
 },
 "nbformat": 4,
 "nbformat_minor": 5
}
